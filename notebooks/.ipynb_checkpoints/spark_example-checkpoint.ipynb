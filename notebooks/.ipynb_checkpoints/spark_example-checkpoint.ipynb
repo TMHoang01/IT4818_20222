{
 "cells": [
  {
   "cell_type": "code",
   "execution_count": 3,
   "id": "b118fb67",
   "metadata": {},
   "outputs": [],
   "source": [
    "from pyspark.sql import SparkSession\n",
    "\n",
    "# Khởi tạo SparkSession\n",
    "spark = SparkSession.builder.appName('Spark Example he llo').master(\"spark://bf7d5520f003:7077\").getOrCreate()\n",
    "\n"
   ]
  },
  {
   "cell_type": "code",
   "execution_count": 4,
   "id": "1cc1e68b-fe20-4ed5-95ff-71b53f9d0fbc",
   "metadata": {},
   "outputs": [
    {
     "data": {
      "text/plain": [
       "DataFrame[a: bigint, b: double, c: string, d: date, e: timestamp]"
      ]
     },
     "execution_count": 4,
     "metadata": {},
     "output_type": "execute_result"
    }
   ],
   "source": [
    "from datetime import datetime, date\r\n",
    "import pandas as pd\r\n",
    "from pyspark.sql import Row\r\n",
    "\r\n",
    "df = spark.createDataFrame([\r\n",
    "    Row(a=1, b=2., c='string1', d=date(2000, 1, 1), e=datetime(2000, 1, 1, 12, 0)),\r\n",
    "    Row(a=2, b=3., c='string2', d=date(2000, 2, 1), e=datetime(2000, 1, 2, 12, 0)),\r\n",
    "    Row(a=4, b=5., c='string3', d=date(2000, 3, 1), e=datetime(2000, 1, 3, 12, 0))\r\n",
    "])\r\n",
    "df"
   ]
  },
  {
   "cell_type": "code",
   "execution_count": 8,
   "id": "59c1875f-56d5-4fcb-9dd8-1341a38b64eb",
   "metadata": {},
   "outputs": [
    {
     "name": "stdout",
     "output_type": "stream",
     "text": [
      "+----------+---------------------+----------+---+-----------+-------------+-----------+-------------------+--------------------------+------------------+----------------+-------------+---------+-------+-------+-------+-----+----+-----------+------+-----------+---+-----------+-----------+---+-----------+-----------+---+-----------+-----------+\n",
      "|product_id|product_category_name|month_year|qty|total_price|freight_price| unit_price|product_name_lenght|product_description_lenght|product_photos_qty|product_weight_g|product_score|customers|weekday|weekend|holiday|month|year|          s|volume|     comp_1|ps1|        fp1|     comp_2|ps2|        fp2|     comp_3|ps3|        fp3|  lag_price|\n",
      "+----------+---------------------+----------+---+-----------+-------------+-----------+-------------------+--------------------------+------------------+----------------+-------------+---------+-------+-------+-------+-----+----+-----------+------+-----------+---+-----------+-----------+---+-----------+-----------+---+-----------+-----------+\n",
      "|      bed1|       bed_bath_table|01-05-2017|  1|      45.95|         15.1|      45.95|                 39|                       161|                 2|             350|          4.0|       57|     23|      8|      1|    5|2017|10.26739356|  3800|       89.9|3.9|15.01189655|      215.0|4.4|       8.76|      45.95|4.0|       15.1|       45.9|\n",
      "|      bed1|       bed_bath_table|01-06-2017|  3|     137.85|  12.93333333|      45.95|                 39|                       161|                 2|             350|          4.0|       61|     22|      8|      1|    6|2017|6.503115265|  3800|       89.9|3.9|14.76921569|      209.0|4.4|     21.322|      45.95|4.0|12.93333333|      45.95|\n",
      "|      bed1|       bed_bath_table|01-07-2017|  6|      275.7|        14.84|      45.95|                 39|                       161|                 2|             350|          4.0|      123|     21|     10|      1|    7|2017|12.07165109|  3800|       89.9|3.9|13.99383333|      205.0|4.4| 22.1959322|      45.95|4.0|      14.84|      45.95|\n",
      "|      bed1|       bed_bath_table|01-08-2017|  4|      183.8|      14.2875|      45.95|                 39|                       161|                 2|             350|          4.0|       90|     23|      8|      1|    8|2017|9.293873313|  3800|       89.9|3.9|14.65675676|199.5098039|4.4|19.41288462|      45.95|4.0|    14.2875|      45.95|\n",
      "|      bed1|       bed_bath_table|01-09-2017|  2|       91.9|         15.1|      45.95|                 39|                       161|                 2|             350|          4.0|       54|     21|      9|      1|    9|2017|5.555555556|  3800|       89.9|3.9|18.77652174|163.3987097|4.4| 24.3246875|      45.95|4.0|       15.1|      45.95|\n",
      "|      bed1|       bed_bath_table|01-10-2017|  3|     137.85|         15.1|      45.95|                 39|                       161|                 2|             350|          4.0|       50|     22|      9|      2|   10|2017|8.333333333|  3800|       89.9|3.9|21.57214286|      45.95|4.0|       15.1|      45.95|4.0|       15.1|      45.95|\n",
      "|      bed1|       bed_bath_table|01-11-2017| 11|     445.85|  15.83272727|40.53181818|                 39|                       161|                 2|             350|          4.0|       97|     22|      8|      4|   11|2017|30.55555556|  3800|       89.9|3.9|     16.294|40.53181818|4.0|15.83272727|40.53181818|4.0|15.83272727|      45.95|\n",
      "|      bed1|       bed_bath_table|01-12-2017|  6|     239.94|        15.23|      39.99|                 39|                       161|                 2|             350|          4.0|       41|     21|     10|      1|   12|2017|16.66666667|  3800|88.48823529|3.9|18.89833333|      39.99|4.0|      15.23|      39.99|4.0|      15.23|40.53181818|\n",
      "|      bed1|       bed_bath_table|01-01-2018| 19|     759.81|  16.53368421|      39.99|                 39|                       161|                 2|             350|          4.0|       62|     23|      8|      2|    1|2018|17.75700935|  3800|       86.9|3.9|19.38352941|      39.99|4.0|16.53368421|      39.99|4.0|16.53368421|      39.99|\n",
      "|      bed1|       bed_bath_table|01-02-2018| 18|     719.82|  13.74944444|      39.99|                 39|                       161|                 2|             350|          4.0|       62|     20|      8|      2|    2|2018|16.82242991|  3800|       86.9|3.9|19.20909091|      39.99|4.0|13.74944444|      39.99|4.0|13.74944444|      39.99|\n",
      "|      bed1|       bed_bath_table|01-03-2018| 17|     679.83|  16.46235294|      39.99|                 39|                       161|                 2|             350|          4.0|       43|     22|      9|      1|    3|2018|15.88785047|  3800|       86.9|3.9|19.98235294|      39.99|4.0|16.46235294|      39.99|4.0|16.46235294|      39.99|\n",
      "|      bed1|       bed_bath_table|01-04-2018| 13|     519.87|  14.23615385|      39.99|                 39|                       161|                 2|             350|          4.0|       34|     21|      9|      1|    4|2018|12.14953271|  3800|     85.045|3.9|      12.94|      39.99|4.0|14.23615385|      39.99|4.0|14.23615385|      39.99|\n",
      "|      bed1|       bed_bath_table|01-05-2018| 19|     759.81|  10.25631579|      39.99|                 39|                       161|                 2|             350|          4.0|       57|     23|      8|      3|    5|2018|10.26739356|  3800|83.64961538|3.9|16.78038462|      39.99|4.0|10.25631579|      39.99|4.0|10.25631579|      39.99|\n",
      "|      bed1|       bed_bath_table|01-06-2018|  5|     199.95|       13.998|      39.99|                 39|                       161|                 2|             350|          4.0|       43|     21|      9|      0|    6|2018|6.503115265|  3800|       79.9|3.9|23.00565217|      39.99|4.0|     13.998|      39.99|4.0|     13.998|      39.99|\n",
      "|      bed1|       bed_bath_table|01-07-2018|  8|     319.92|      20.4175|      39.99|                 39|                       161|                 2|             350|          4.0|       26|     22|      9|      1|    7|2018|12.07165109|  3800|77.93333333|3.9|     19.952|      39.99|4.0|    20.4175|      39.99|4.0|    20.4175|      39.99|\n",
      "|      bed1|       bed_bath_table|01-08-2018|  8|     313.92|     16.33375|      39.24|                 39|                       161|                 2|             350|          4.0|       15|     23|      8|      1|    8|2018|9.293873313|  3800|       74.0|3.9|17.25571429|      39.24|4.0|   16.33375|      39.24|4.0|   16.33375|      39.99|\n",
      "|   garden5|         garden_tools|01-03-2017|  6|      419.4|        32.68|       69.9|                 36|                       450|                 1|            9000|          4.1|       21|     23|      8|      1|    3|2017|9.107142857| 19656|       69.9|4.1|      32.68|       69.9|4.1|      32.68|       69.9|4.1|      32.68|      69.85|\n",
      "|   garden5|         garden_tools|01-04-2017|  3|      247.9|  34.21666667|82.63333333|                 36|                       450|                 1|            9000|          4.1|       17|     20|     10|      2|    4|2017|7.678571429| 19656|82.63333333|4.1|34.21666667|82.63333333|4.1|34.21666667|82.63333333|4.1|34.21666667|       69.9|\n",
      "|   garden5|         garden_tools|01-05-2017| 20|     1956.0|      39.8975|97.58823529|                 36|                       450|                 1|            9000|          4.1|       34|     23|      8|      1|    5|2017|19.04761905| 19656|       59.9|4.1|    19.7325|       59.9|4.2|26.24666667|97.58823529|4.1|    39.8975|82.63333333|\n",
      "|   garden5|         garden_tools|01-06-2017|  8|      712.0|     40.80125|       89.0|                 36|                       450|                 1|            9000|          4.1|       26|     22|      8|      1|    6|2017|7.619047619| 19656|       59.9|4.1|      17.67|       59.9|4.2|      16.26|       89.0|4.1|   40.80125|97.58823529|\n",
      "+----------+---------------------+----------+---+-----------+-------------+-----------+-------------------+--------------------------+------------------+----------------+-------------+---------+-------+-------+-------+-----+----+-----------+------+-----------+---+-----------+-----------+---+-----------+-----------+---+-----------+-----------+\n",
      "only showing top 20 rows\n",
      "\n"
     ]
    },
    {
     "ename": "NameError",
     "evalue": "name 'VectorAssembler' is not defined",
     "output_type": "error",
     "traceback": [
      "\u001b[0;31m---------------------------------------------------------------------------\u001b[0m",
      "\u001b[0;31mNameError\u001b[0m                                 Traceback (most recent call last)",
      "Cell \u001b[0;32mIn[8], line 23\u001b[0m\n\u001b[1;32m     20\u001b[0m target_column \u001b[38;5;241m=\u001b[39m selected_columns[\u001b[38;5;241m-\u001b[39m\u001b[38;5;241m1\u001b[39m]  \u001b[38;5;66;03m# Cột cần dự đoán\u001b[39;00m\n\u001b[1;32m     22\u001b[0m \u001b[38;5;66;03m# Tạo VectorAssembler để chuyển đổi các cột đặc trưng thành vector đặc trưng\u001b[39;00m\n\u001b[0;32m---> 23\u001b[0m assembler \u001b[38;5;241m=\u001b[39m \u001b[43mVectorAssembler\u001b[49m(inputCols\u001b[38;5;241m=\u001b[39mfeature_columns, outputCol\u001b[38;5;241m=\u001b[39m\u001b[38;5;124m\"\u001b[39m\u001b[38;5;124mfeatures\u001b[39m\u001b[38;5;124m\"\u001b[39m)\n\u001b[1;32m     24\u001b[0m data \u001b[38;5;241m=\u001b[39m assembler\u001b[38;5;241m.\u001b[39mtransform(selected_data)\n\u001b[1;32m     26\u001b[0m \u001b[38;5;66;03m# Chia dữ liệu thành tập huấn luyện và tập kiểm tra\u001b[39;00m\n",
      "\u001b[0;31mNameError\u001b[0m: name 'VectorAssembler' is not defined"
     ]
    }
   ],
   "source": []
  },
  {
   "cell_type": "code",
   "execution_count": null,
   "id": "168e4a84-0400-4636-9104-08d03f717054",
   "metadata": {},
   "outputs": [],
   "source": []
  },
  {
   "cell_type": "code",
   "execution_count": 9,
   "id": "7a41cd49-6be7-4561-bd87-1a4b5dcce0a1",
   "metadata": {},
   "outputs": [],
   "source": [
    "spark.stop()"
   ]
  },
  {
   "cell_type": "code",
   "execution_count": null,
   "id": "d0bc342f-9f5c-4ef0-a52f-b196cb9c41fa",
   "metadata": {},
   "outputs": [],
   "source": [
    "from pyspark.sql import SparkSession\n",
    "from pyspark.ml.feature import VectorAssembler\n",
    "from pyspark.ml.regression import LinearRegression\n",
    "from pyspark.sql.functions import monotonically_increasing_id\n",
    "from pyspark.sql.functions import col\n",
    "\n",
    "# Khởi tạo SparkSession\n",
    "spark = SparkSession.builder.appName(\"IntelligentAnalysis\").master('spark://bf7d5520f003:7077').getOrCreate()\n",
    "\n",
    "# Đường dẫn đến tệp dữ liệu CSV\n",
    "file_path = \"/app/data.csv\"\n",
    "\n",
    "# Đọc dữ liệu từ tệp CSV vào DataFrame\n",
    "data = spark.read.csv(file_path, header=True, inferSchema=True)\n",
    "\n",
    "# Thêm một cột id duy nhất cho mỗi hàng dữ liệu\n",
    "data = data.withColumn(\"id\", monotonically_increasing_id())\n",
    "\n",
    "data.show()\n",
    "\n",
    "# Chọn các cột dữ liệu để sử dụng trong phân tích\n",
    "selected_columns = ['qty', 'total_price', 'freight_price', 'unit_price', 'product_name_lenght', 'product_description_lenght', 'product_photos_qty', 'product_weight_g', 'product_score', 'customers', 'weekday', 'weekend', 'holiday', 'month', 'year', 's', 'volume', 'comp_1', 'ps1', 'fp1', 'comp_2', 'ps2', 'fp2', 'comp_3', 'ps3', 'fp3', 'lag_price']\n",
    "\n",
    "# Tạo một DataFrame mới chỉ chứa các cột đã chọn\n",
    "selected_data = data.select([col(col_name) for col_name in selected_columns] + [\"id\"])\n",
    "\n",
    "# Tiền xử lý dữ liệu (nếu cần)\n",
    "# ...\n",
    "\n",
    "# Xác định biến đầu vào và biến mục tiêu\n",
    "feature_columns = selected_columns[:-1]  # Các cột dùng để dự đoán\n",
    "target_column = selected_columns[-1]  # Cột cần dự đoán\n",
    "\n",
    "# Tạo VectorAssembler để chuyển đổi các cột đặc trưng thành vector đặc trưng\n",
    "assembler = VectorAssembler(inputCols=feature_columns, outputCol=\"features\")\n",
    "data = assembler.transform(selected_data)\n",
    "\n",
    "# Chia dữ liệu thành tập huấn luyện và tập kiểm tra\n",
    "(train_data, test_data) = data.randomSplit([0.8, 0.2], seed=42)\n",
    "\n",
    "# Xây dựng mô hình Linear Regression\n",
    "lr = LinearRegression(featuresCol=\"features\", labelCol=target_column)\n",
    "model = lr.fit(train_data)\n",
    "\n",
    "# Đánh giá mô hình trên tập kiểm tra\n",
    "predictions = model.transform(test_data)\n",
    "\n",
    "# Hiển thị các dự đoán và giá trị thực tế\n",
    "predictions.select(\"prediction\", target_column).show()\n",
    "\n",
    "# Đánh giá hiệu suất của mô hình (ví dụ: Root Mean Squared Error)\n",
    "from pyspark.ml.evaluation import RegressionEvaluator\n",
    "\n",
    "evaluator = RegressionEvaluator(labelCol=target_column, metricName=\"rmse\")\n",
    "rmse = evaluator.evaluate(predictions)\n",
    "print(\"Root Mean Squared Error (RMSE):\", rmse)\n",
    "\n",
    "# Dừng SparkSession\n",
    "spark.stop()\n"
   ]
  }
 ],
 "metadata": {
  "kernelspec": {
   "display_name": "Python 3 (ipykernel)",
   "language": "python",
   "name": "python3"
  },
  "language_info": {
   "codemirror_mode": {
    "name": "ipython",
    "version": 3
   },
   "file_extension": ".py",
   "mimetype": "text/x-python",
   "name": "python",
   "nbconvert_exporter": "python",
   "pygments_lexer": "ipython3",
   "version": "3.11.4"
  }
 },
 "nbformat": 4,
 "nbformat_minor": 5
}
