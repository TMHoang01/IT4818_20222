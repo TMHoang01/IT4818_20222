{
 "cells": [
  {
   "cell_type": "markdown",
   "metadata": {},
   "source": [
    "# Retail pricing"
   ]
  },
  {
   "cell_type": "markdown",
   "metadata": {},
   "source": [
    "**Features description**\n",
    "\n",
    "* **customers** (integer) - monthly demand for a given subcategory of goods\n",
    "* **freight_price** (float) - freight price of the company goods\n",
    "* **fp1, fp2, fp3** (float) - freight price of competitors 1,2,3 goods respectively\n",
    "* **product_category_name** - (categorical) - broad group category name\n",
    "* **product_id** (categorical) - detailed group subcategory name\n",
    "* **product_description_lenght** (integer) - Number of words in the subcategory description\n",
    "* **product_score** (float) - user rating for subcategories of the company goods\n",
    "* **ps1, ps2, ps3** (float) - user rating for subcategories of competitors 1,2,3 respectively\n",
    "* **product_photos_qty** (integer) - number of photos for each subcategory (product_id)\n",
    "* **product_weight_g** (integer) - unit weight in grams\n",
    "* **total_price** (float) - montly revenue which can be calculated using formula: total_price = unit_price * qty\n",
    "\n",
    "* **month_year** (string) - data in the format (dd-mm-yyyy) within the range between 01-01-2017 and 01-08-2018. Only months and years are important here.\n",
    "* **year** (integer) - year which was taken from the 'month_year'\n",
    "* **month** (integer) - month which was taken from the 'month_year'\n",
    "* **qty** (integer) - monthly sales per subcategory\n",
    "* **unit_price** (float) - monthly unit price of subcategory good of company goods\n",
    "* **comp_1, comp_2, comp_3** (float) - unit price of within the subcategory of competitors 1,2,3 goods respectively\n",
    "* **lag_price** (float) - unit price on the previous month\n",
    "* **weekend** (integer) - number of weekends per month\n",
    "* **weekday** (integer) - number of weekdays per month\n",
    "* **holiday** (integer) - number of holidays per month\n",
    "* **s** (float) - yet unknown parameter"
   ]
  },
  {
   "cell_type": "code",
   "execution_count": 1,
   "metadata": {},
   "outputs": [],
   "source": [
    "import pandas as pd\n",
    "import numpy as np\n",
    "import matplotlib.pyplot as plt\n",
    "import seaborn as sns\n",
    "#%matplotlib inline\n",
    "\n",
    "import warnings\n",
    "warnings.filterwarnings('ignore')\n",
    "\n",
    "import os, sys\n",
    "\n",
    "from sklearn.preprocessing import  StandardScaler , OneHotEncoder, OrdinalEncoder,PolynomialFeatures \n",
    "from sklearn.model_selection import train_test_split \n",
    "from sklearn import linear_model\n",
    "\n",
    "from sklearn.ensemble import  GradientBoostingRegressor\n",
    "from sklearn.metrics import  mean_squared_error, r2_score, mean_absolute_percentage_error, median_absolute_error, PredictionErrorDisplay\n",
    "\n",
    "\n",
    "from sklearn.compose import make_column_transformer\n",
    "\n",
    "from IPython.display import clear_output\n",
    "\n",
    "# Display fixed length of a dataframe\n",
    "pd.set_option(\"display.max_rows\", 9, \"display.max_columns\", 9)\n",
    "\n",
    "#set path\n",
    "sys.path.insert(1, '../')\n",
    "\n",
    "random_seed = 42\n",
    "\n",
    "#os.environ['PYTHONHASHSEED'] = str(random_seed)\n",
    "np.random.seed(random_seed)"
   ]
  },
  {
   "cell_type": "markdown",
   "metadata": {},
   "source": [
    "## Read files"
   ]
  },
  {
   "cell_type": "code",
   "execution_count": 3,
   "metadata": {},
   "outputs": [],
   "source": [
    "from pyspark.ml.feature import VectorAssembler\n",
    "from pyspark.ml.regression import RandomForestRegressor\n",
    "from pyspark.ml.evaluation import RegressionEvaluator\n",
    "from pyspark.sql import SparkSession\n",
    "from pyspark.sql.types import StructType, StructField, StringType, IntegerType, FloatType, TimestampType\n",
    "from pyspark.sql.functions import to_date, col, isnan, sum \n"
   ]
  },
  {
   "cell_type": "code",
   "execution_count": 8,
   "metadata": {},
   "outputs": [],
   "source": [
    "\n",
    "file_path = '/app/data.csv'\n",
    "spark = SparkSession.builder.appName(\"Otimpe Rice\").getOrCreate()\n",
    "\n",
    "schema = StructType([\n",
    "    StructField(\"product_id\", StringType()),\n",
    "    StructField(\"product_category_name\", StringType()),\n",
    "    StructField(\"month_year\", TimestampType()),\n",
    "    StructField(\"qty\", IntegerType()),\n",
    "    StructField(\"total_price\", FloatType()),\n",
    "    StructField(\"freight_price\", FloatType()),\n",
    "    StructField(\"unit_price\", FloatType()),\n",
    "    StructField(\"product_name_length\", IntegerType()),\n",
    "    StructField(\"product_description_length\", IntegerType()),\n",
    "    StructField(\"product_photos_qty\", IntegerType()),\n",
    "    StructField(\"product_weight_g\", IntegerType()),\n",
    "    StructField(\"product_score\", FloatType()),\n",
    "    StructField(\"customers\", IntegerType()),\n",
    "    StructField(\"weekday\", IntegerType()),\n",
    "    StructField(\"weekend\", IntegerType()),\n",
    "    StructField(\"holiday\", IntegerType()),\n",
    "    StructField(\"month\", IntegerType()),\n",
    "    StructField(\"year\", IntegerType()),\n",
    "    StructField(\"s\", FloatType()),\n",
    "    StructField(\"volume\", IntegerType()),\n",
    "    StructField(\"comp_1\", FloatType()),\n",
    "    StructField(\"ps1\", FloatType()),\n",
    "    StructField(\"fp1\", FloatType()),\n",
    "    StructField(\"comp_2\", FloatType()),\n",
    "    StructField(\"ps2\", FloatType()),\n",
    "    StructField(\"fp2\", FloatType()),\n",
    "    StructField(\"comp_3\", FloatType()),\n",
    "    StructField(\"ps3\", FloatType()),\n",
    "    StructField(\"fp3\", FloatType()),\n",
    "    StructField(\"lag_price\", FloatType())\n",
    "])\n",
    "data = spark.read.format(\"csv\").option(\"header\", \"true\").option(\"timestampFormat\", \"dd-MM-yyyy\")\\\n",
    "                .schema(schema).load(file_path)\n"
   ]
  },
  {
   "cell_type": "code",
   "execution_count": 5,
   "metadata": {},
   "outputs": [
    {
     "name": "stdout",
     "output_type": "stream",
     "text": [
      "root\n",
      " |-- product_id: string (nullable = true)\n",
      " |-- product_category_name: string (nullable = true)\n",
      " |-- month_year: string (nullable = true)\n",
      " |-- qty: string (nullable = true)\n",
      " |-- total_price: string (nullable = true)\n",
      " |-- freight_price: string (nullable = true)\n",
      " |-- unit_price: string (nullable = true)\n",
      " |-- product_name_lenght: string (nullable = true)\n",
      " |-- product_description_lenght: string (nullable = true)\n",
      " |-- product_photos_qty: string (nullable = true)\n",
      " |-- product_weight_g: string (nullable = true)\n",
      " |-- product_score: string (nullable = true)\n",
      " |-- customers: string (nullable = true)\n",
      " |-- weekday: string (nullable = true)\n",
      " |-- weekend: string (nullable = true)\n",
      " |-- holiday: string (nullable = true)\n",
      " |-- month: string (nullable = true)\n",
      " |-- year: string (nullable = true)\n",
      " |-- s: string (nullable = true)\n",
      " |-- volume: string (nullable = true)\n",
      " |-- comp_1: string (nullable = true)\n",
      " |-- ps1: string (nullable = true)\n",
      " |-- fp1: string (nullable = true)\n",
      " |-- comp_2: string (nullable = true)\n",
      " |-- ps2: string (nullable = true)\n",
      " |-- fp2: string (nullable = true)\n",
      " |-- comp_3: string (nullable = true)\n",
      " |-- ps3: string (nullable = true)\n",
      " |-- fp3: string (nullable = true)\n",
      " |-- lag_price: string (nullable = true)\n",
      "\n"
     ]
    }
   ],
   "source": [
    "data.printSchema()"
   ]
  },
  {
   "cell_type": "code",
   "execution_count": 7,
   "metadata": {},
   "outputs": [
    {
     "data": {
      "text/html": [
       "<div>\n",
       "<style scoped>\n",
       "    .dataframe tbody tr th:only-of-type {\n",
       "        vertical-align: middle;\n",
       "    }\n",
       "\n",
       "    .dataframe tbody tr th {\n",
       "        vertical-align: top;\n",
       "    }\n",
       "\n",
       "    .dataframe thead th {\n",
       "        text-align: right;\n",
       "    }\n",
       "</style>\n",
       "<table border=\"1\" class=\"dataframe\">\n",
       "  <thead>\n",
       "    <tr style=\"text-align: right;\">\n",
       "      <th></th>\n",
       "      <th>0</th>\n",
       "    </tr>\n",
       "  </thead>\n",
       "  <tbody>\n",
       "    <tr>\n",
       "      <th>sum(product_id)</th>\n",
       "      <td>0</td>\n",
       "    </tr>\n",
       "    <tr>\n",
       "      <th>sum(product_category_name)</th>\n",
       "      <td>0</td>\n",
       "    </tr>\n",
       "    <tr>\n",
       "      <th>sum(month_year)</th>\n",
       "      <td>0</td>\n",
       "    </tr>\n",
       "    <tr>\n",
       "      <th>sum(qty)</th>\n",
       "      <td>0</td>\n",
       "    </tr>\n",
       "    <tr>\n",
       "      <th>...</th>\n",
       "      <td>...</td>\n",
       "    </tr>\n",
       "    <tr>\n",
       "      <th>sum(comp_3)</th>\n",
       "      <td>0</td>\n",
       "    </tr>\n",
       "    <tr>\n",
       "      <th>sum(ps3)</th>\n",
       "      <td>0</td>\n",
       "    </tr>\n",
       "    <tr>\n",
       "      <th>sum(fp3)</th>\n",
       "      <td>0</td>\n",
       "    </tr>\n",
       "    <tr>\n",
       "      <th>sum(lag_price)</th>\n",
       "      <td>0</td>\n",
       "    </tr>\n",
       "  </tbody>\n",
       "</table>\n",
       "<p>30 rows × 1 columns</p>\n",
       "</div>"
      ],
      "text/plain": [
       "                            0\n",
       "sum(product_id)             0\n",
       "sum(product_category_name)  0\n",
       "sum(month_year)             0\n",
       "sum(qty)                    0\n",
       "...                        ..\n",
       "sum(comp_3)                 0\n",
       "sum(ps3)                    0\n",
       "sum(fp3)                    0\n",
       "sum(lag_price)              0\n",
       "\n",
       "[30 rows x 1 columns]"
      ]
     },
     "execution_count": 7,
     "metadata": {},
     "output_type": "execute_result"
    }
   ],
   "source": [
    "missing_counts = data.select([col(c).isNull().cast(\"int\").alias(c) for c in data.columns]) \\\n",
    "                    .groupBy().sum()\n",
    "missing_counts.toPandas().T\n"
   ]
  },
  {
   "cell_type": "markdown",
   "metadata": {},
   "source": [
    "> The dataset does not contain missing entries."
   ]
  },
  {
   "cell_type": "markdown",
   "metadata": {},
   "source": [
    "# 1. EDA"
   ]
  },
  {
   "cell_type": "markdown",
   "metadata": {},
   "source": [
    "### month_year, month, year"
   ]
  },
  {
   "cell_type": "code",
   "execution_count": null,
   "metadata": {},
   "outputs": [],
   "source": [
    "data[['month_year', 'month','year']].head()"
   ]
  },
  {
   "cell_type": "code",
   "execution_count": null,
   "metadata": {},
   "outputs": [],
   "source": [
    "data['year'] = pd.to_datetime(data['month_year'], format='%d-%m-%Y').dt.year \n",
    "data['month'] = pd.to_datetime(data['month_year'], format='%d-%m-%Y').dt.month\n",
    "data['month_year'] = pd.to_datetime(data['month_year'], format='%d-%m-%Y').dt.strftime('%Y-%m') #.dt.to_period('m')\n",
    "#data['day'] = pd.to_datetime(data['month_year']).dt.day\n",
    "data['month_year'].head()"
   ]
  },
  {
   "cell_type": "code",
   "execution_count": null,
   "metadata": {},
   "outputs": [],
   "source": [
    "idx = sorted(list(data['month_year'].unique()))\n",
    "#idx"
   ]
  },
  {
   "cell_type": "code",
   "execution_count": null,
   "metadata": {},
   "outputs": [],
   "source": [
    "data[['month_year', 'month','year']].info()"
   ]
  },
  {
   "cell_type": "markdown",
   "metadata": {},
   "source": [
    "### unit_price (target feature)"
   ]
  },
  {
   "cell_type": "code",
   "execution_count": null,
   "metadata": {},
   "outputs": [],
   "source": [
    "fig, ax = plt.subplots(figsize=(6,4))\n",
    "sns.histplot(data['unit_price']); #,bins=15"
   ]
  },
  {
   "cell_type": "code",
   "execution_count": null,
   "metadata": {},
   "outputs": [],
   "source": [
    "data['total_price_log'] = np.log(data['total_price'])\n",
    "data['unit_price_log'] = np.log(data['unit_price'])\n",
    "data['qty_log'] = np.log(data['qty'] + 1)\n",
    "\n",
    "# fig, ax = plt.subplots(1,2, figsize=(12, 4))\n",
    " \n",
    "# sns.regplot(data, y='unit_price_log', x='qty_log', ax=ax[0] , line_kws={\"color\": \"red\"}) #\n",
    "# sns.regplot(data, y='total_price_log', x='qty_log', ax=ax[1] , line_kws={\"color\": \"red\"})\n",
    "# #ax[0].set_yscale('log')\n",
    "\n",
    "# ax[0].xaxis.grid(linestyle=':')\n",
    "# plot_counter=1\n",
    "# fig.suptitle('Unit price vs log quantity ', y=-0.05, fontsize=13) #, loc='right'\n",
    "# plt.tight_layout()\n",
    " "
   ]
  },
  {
   "cell_type": "code",
   "execution_count": null,
   "metadata": {},
   "outputs": [],
   "source": [
    "fig, ax = plt.subplots(1,2, figsize=(10, 4))\n",
    "\n",
    "fig = sns.histplot(data['qty_log'], ax=ax[0], kde=True); #,bins=15\n",
    "fig = sns.regplot(data, y='unit_price_log', ax=ax[1], x='qty_log', line_kws={\"color\": \"red\"}) #\n",
    "ax[1].xaxis.grid(linestyle=':')\n",
    "\n",
    "\n",
    "ax[0].set_title('Fig.1 - Unit price vs quantity ', y=-0.25, fontsize=13, x=1) #\n",
    "plt.tight_layout()"
   ]
  },
  {
   "cell_type": "markdown",
   "metadata": {},
   "source": [
    "> It is essential that unit price is discounted in case of wholesale."
   ]
  },
  {
   "cell_type": "markdown",
   "metadata": {},
   "source": [
    "### 'unit_price' vs 'comp_1', 'comp_2', 'comp_3'"
   ]
  },
  {
   "cell_type": "code",
   "execution_count": null,
   "metadata": {},
   "outputs": [],
   "source": [
    "fig, ax = plt.subplots( figsize=(6,3))\n",
    "sns.boxplot(data[['unit_price', 'comp_1', 'comp_2', 'comp_3']], width=0.7, orient='h')  \n",
    "ax.xaxis.grid(linestyle=':')\n",
    "ax.set_xscale('log')\n",
    "ax.set_xlabel('Unit price, INR')\n",
    "ax.set_ylabel('Company')\n",
    "    \n",
    "ax.set_title(f'Fig.2 - Unit price distribution vs competitors', y=-0.35, fontsize=13, loc='center')\n",
    "plt.tight_layout();\n",
    "\n"
   ]
  },
  {
   "cell_type": "code",
   "execution_count": null,
   "metadata": {},
   "outputs": [],
   "source": [
    "data[['unit_price', 'comp_1', 'comp_2', 'comp_3']].median()"
   ]
  },
  {
   "cell_type": "code",
   "execution_count": null,
   "metadata": {},
   "outputs": [],
   "source": [
    "data[['comp_1', 'comp_2', 'comp_3']] = data[['comp_1', 'comp_2', 'comp_3']].apply(np.log)"
   ]
  },
  {
   "cell_type": "markdown",
   "metadata": {},
   "source": [
    "### freight_price, fp1,fp2, fp3"
   ]
  },
  {
   "cell_type": "code",
   "execution_count": null,
   "metadata": {},
   "outputs": [],
   "source": [
    "data[['freight_price', 'fp1', 'fp2', 'fp3']].head()"
   ]
  },
  {
   "cell_type": "code",
   "execution_count": null,
   "metadata": {},
   "outputs": [],
   "source": [
    "fig, ax = plt.subplots( figsize=(6,3))\n",
    "sns.boxplot(data[['freight_price', 'fp1', 'fp2', 'fp3']], width=0.7, orient='h')  \n",
    "ax.xaxis.grid(linestyle=':')\n",
    "#ax.set_xscale('log')\n",
    "\n",
    "ax.set_title(f'Fig.3- Freight price comparison vs competitors', y=-0.25, fontsize=13, loc='center');\n"
   ]
  },
  {
   "cell_type": "code",
   "execution_count": null,
   "metadata": {},
   "outputs": [],
   "source": [
    "mask = data['freight_price']<4\n",
    "data[mask]"
   ]
  },
  {
   "cell_type": "code",
   "execution_count": null,
   "metadata": {},
   "outputs": [],
   "source": [
    "data['freight_price'].describe()"
   ]
  },
  {
   "cell_type": "code",
   "execution_count": null,
   "metadata": {},
   "outputs": [],
   "source": [
    "data['product_weight_logg'] = np.log(data['product_weight_g'])\n",
    "\n",
    "fig, ax = plt.subplots(1,2, figsize=(12, 4))\n",
    " \n",
    "sns.regplot(data, x='product_weight_logg', y='freight_price', ax=ax[0] , line_kws={\"color\": \"red\"}) #\n",
    "sns.regplot(data, x='qty_log', y='freight_price', ax=ax[1] , line_kws={\"color\": \"red\"})\n",
    "#ax[0].set_yscale('log')\n",
    "\n",
    "ax[0].xaxis.grid(linestyle=':')\n",
    " \n",
    "fig.suptitle('Fig.4 - Freight price by weight', y=-0.05, fontsize=13) #, loc='right'\n",
    "plt.tight_layout() "
   ]
  },
  {
   "cell_type": "markdown",
   "metadata": {},
   "source": [
    "### qty"
   ]
  },
  {
   "cell_type": "code",
   "execution_count": null,
   "metadata": {},
   "outputs": [],
   "source": [
    "data['qty']"
   ]
  },
  {
   "cell_type": "code",
   "execution_count": null,
   "metadata": {},
   "outputs": [],
   "source": [
    "fig, ax = plt.subplots(figsize=(6,4))\n",
    "sns.histplot(data['qty']); #,bins=15"
   ]
  },
  {
   "cell_type": "code",
   "execution_count": null,
   "metadata": {},
   "outputs": [],
   "source": [
    "# temp = data.pivot_table(\n",
    "#     values='qty',\n",
    "#     index='product_category_name',\n",
    "#     columns='month_year',\n",
    "#     aggfunc='sum')\n",
    "\n",
    "# #temp = temp[idx]\n",
    "# temp "
   ]
  },
  {
   "cell_type": "code",
   "execution_count": null,
   "metadata": {},
   "outputs": [],
   "source": [
    "#mask = data['product_category_name']!='garden_tools'\n",
    "temp = data.pivot_table(\n",
    "    values='qty',\n",
    "    index='product_category_name',\n",
    "    columns='month_year',\n",
    "    aggfunc='sum') \n",
    "\n",
    "means =  temp.loc[:,:'2017-12'].T.mean()\n",
    "#temp = temp.values / means\n",
    "\n",
    "fig,ax = plt.subplots(figsize=(12, 4))\n",
    "\n",
    "fig = sns.heatmap(temp, annot=True, fmt='.0f',  linewidths=.5, cmap= 'coolwarm') #vmin=-1, vmax=1, fmt='.1g'center= 0,\n",
    "\n",
    "ax.set_title(f'Fig.5  - Sum of montly sales by category', y=-0.5, fontsize=12);\n",
    "ax.tick_params(axis='x', rotation=90)\n",
    "plt.tight_layout()\n",
    "\n",
    " "
   ]
  },
  {
   "cell_type": "markdown",
   "metadata": {},
   "source": [
    "### product_id "
   ]
  },
  {
   "cell_type": "code",
   "execution_count": null,
   "metadata": {},
   "outputs": [],
   "source": [
    "display(f\"Number of unique categories: {data['product_id'].nunique()}\")\n",
    "data['product_id'].value_counts()"
   ]
  },
  {
   "cell_type": "code",
   "execution_count": null,
   "metadata": {},
   "outputs": [],
   "source": [
    "mask = data['product_id']=='health5'\n",
    "data[mask].sort_values(by=['month_year'])"
   ]
  },
  {
   "cell_type": "code",
   "execution_count": null,
   "metadata": {},
   "outputs": [],
   "source": [
    "temp = data['product_id'].str.split('([A-Za-z]+)', expand=True)#.iloc[:,1] #(\\d+)\n",
    "#display(temp)\n",
    "data['product_subcategory'] = temp[2].astype('category')\n",
    "temp[1].value_counts()"
   ]
  },
  {
   "cell_type": "markdown",
   "metadata": {},
   "source": [
    "### product_category_name"
   ]
  },
  {
   "cell_type": "code",
   "execution_count": null,
   "metadata": {},
   "outputs": [],
   "source": [
    "data['product_category_name'].value_counts()"
   ]
  },
  {
   "cell_type": "markdown",
   "metadata": {},
   "source": [
    "> This feature duplicates with the previous one so it should be deleted"
   ]
  },
  {
   "cell_type": "code",
   "execution_count": null,
   "metadata": {},
   "outputs": [],
   "source": [
    "data['product_category_name'] = data['product_category_name'].astype('category')\n",
    "\n",
    "#data['product_category_name']"
   ]
  },
  {
   "cell_type": "markdown",
   "metadata": {},
   "source": [
    "### customers"
   ]
  },
  {
   "cell_type": "code",
   "execution_count": null,
   "metadata": {},
   "outputs": [],
   "source": [
    "data['customers']"
   ]
  },
  {
   "cell_type": "code",
   "execution_count": null,
   "metadata": {},
   "outputs": [],
   "source": [
    "mask = data['product_id']=='bed1'\n",
    "any(data[mask].groupby(['month_year'])['customers'].min() == data[mask].groupby(['month_year'])['customers'].max())"
   ]
  },
  {
   "cell_type": "code",
   "execution_count": null,
   "metadata": {},
   "outputs": [],
   "source": [
    "data[['total_price', 'volume','customers', 'unit_price','s','qty']]"
   ]
  },
  {
   "cell_type": "markdown",
   "metadata": {},
   "source": [
    "> The feature represents monthly demand for every product subcategory"
   ]
  },
  {
   "cell_type": "markdown",
   "metadata": {},
   "source": [
    "### 'weekday','weekend', 'holiday'"
   ]
  },
  {
   "cell_type": "code",
   "execution_count": null,
   "metadata": {},
   "outputs": [],
   "source": [
    "data.groupby(['month_year'])[['weekday','weekend', 'holiday']].min().head(9)"
   ]
  },
  {
   "cell_type": "code",
   "execution_count": null,
   "metadata": {},
   "outputs": [],
   "source": [
    "any(data.groupby(['month_year'])['weekday'].min() == data.groupby(['month_year'])['weekday']. max())"
   ]
  },
  {
   "cell_type": "markdown",
   "metadata": {},
   "source": [
    "### product_description_lenght"
   ]
  },
  {
   "cell_type": "code",
   "execution_count": null,
   "metadata": {},
   "outputs": [],
   "source": [
    "temp = list(data['product_description_lenght'].unique())\n",
    "temp = sorted(temp)\n",
    "\n",
    "print(temp)"
   ]
  },
  {
   "cell_type": "code",
   "execution_count": null,
   "metadata": {},
   "outputs": [],
   "source": [
    "any(data.groupby(['product_id'])['product_description_lenght'].min() == data.groupby(['product_id'])['product_description_lenght'].max())"
   ]
  },
  {
   "cell_type": "code",
   "execution_count": null,
   "metadata": {},
   "outputs": [],
   "source": [
    "data['product_description_enc'] = pd.cut(data.product_description_lenght, [0,250,500,750,1000,1500,2000,2500,9999], labels = ['<250','500','750','1000','1500','2000','2500','>2500'])\n",
    "data['product_description_enc']"
   ]
  },
  {
   "cell_type": "code",
   "execution_count": null,
   "metadata": {},
   "outputs": [],
   "source": [
    "data[['product_description_lenght','product_description_enc']].info()\n",
    "#data.drop(['product_description_lenght'], axis=1, inplace=True)"
   ]
  },
  {
   "cell_type": "markdown",
   "metadata": {},
   "source": [
    "### 'lag_price'"
   ]
  },
  {
   "cell_type": "code",
   "execution_count": null,
   "metadata": {},
   "outputs": [],
   "source": [
    "data[['month_year', 'lag_price', 'unit_price']]"
   ]
  },
  {
   "cell_type": "code",
   "execution_count": null,
   "metadata": {},
   "outputs": [],
   "source": [
    "mask = (data['product_id']=='bed1')\n",
    "print(data[mask].groupby(['month_year'])[['unit_price', 'lag_price']].mean().values)\n",
    "\n",
    "mask = (data['product_id']=='bed1')\n",
    "data[mask].groupby(['month_year'])['unit_price'].min()[:-1].values == data[mask].groupby(['month_year'])['lag_price'].max()[1:].values"
   ]
  },
  {
   "cell_type": "code",
   "execution_count": null,
   "metadata": {},
   "outputs": [],
   "source": [
    "data['lag_price'].corr(data['unit_price'])"
   ]
  },
  {
   "cell_type": "markdown",
   "metadata": {},
   "source": [
    "> Let us compare this feature with the unit_price. As it can be seen, they are almost identical.\n",
    "> Lag price has a very high correlation with the unit_price.  Hence it should be dropped."
   ]
  },
  {
   "cell_type": "markdown",
   "metadata": {},
   "source": [
    "### 'product_photos_qty'"
   ]
  },
  {
   "cell_type": "code",
   "execution_count": null,
   "metadata": {},
   "outputs": [],
   "source": [
    "data['product_photos_qty'].value_counts()"
   ]
  },
  {
   "cell_type": "code",
   "execution_count": null,
   "metadata": {},
   "outputs": [],
   "source": [
    "temp = data.groupby(['product_id'])['product_photos_qty'].agg(['min','max']).values.flatten()\n",
    "print(temp)\n",
    "np.where(temp != temp.round())"
   ]
  },
  {
   "cell_type": "markdown",
   "metadata": {},
   "source": [
    "> All numbers are integer, and minimums are equal to maximums. Therefore, each category has a dtermined number of photos"
   ]
  },
  {
   "cell_type": "markdown",
   "metadata": {},
   "source": [
    "### product_weight_g"
   ]
  },
  {
   "cell_type": "code",
   "execution_count": null,
   "metadata": {},
   "outputs": [],
   "source": [
    "data['product_weight_logg'] = np.log(data['product_weight_g'])\n",
    "\n",
    "fig, ax = plt.subplots(1,2, figsize=(12, 4))\n",
    "#fig = sns.histplot(data['qty_log'], ax=ax[0]); #,bins=15\n",
    "sns.regplot(data, x='product_weight_logg', y='unit_price_log', ax=ax[0] , line_kws={\"color\": \"red\"}) #\n",
    "sns.regplot(data, x='product_weight_logg', y='total_price_log', ax=ax[1] , line_kws={\"color\": \"red\"})\n",
    "#ax[0].set_yscale('log')\n",
    "\n",
    "ax[0].xaxis.grid(linestyle=':')\n",
    "plot_counter=1\n",
    "fig.suptitle('Fig.6 - Unit weight vs price ', y=-0.05, fontsize=13) #, loc='right'\n",
    "plt.tight_layout() "
   ]
  },
  {
   "cell_type": "code",
   "execution_count": null,
   "metadata": {},
   "outputs": [],
   "source": [
    "data[['product_weight_g']].info()"
   ]
  },
  {
   "cell_type": "markdown",
   "metadata": {},
   "source": [
    "### product_score, ps1, ps2, ps3"
   ]
  },
  {
   "cell_type": "code",
   "execution_count": null,
   "metadata": {},
   "outputs": [],
   "source": [
    "data['product_score'].value_counts()"
   ]
  },
  {
   "cell_type": "code",
   "execution_count": null,
   "metadata": {},
   "outputs": [],
   "source": [
    "any(data.groupby(['product_id'])['product_score'].min() == data.groupby(['product_id'])['product_score'].max())"
   ]
  },
  {
   "cell_type": "code",
   "execution_count": null,
   "metadata": {},
   "outputs": [],
   "source": [
    "data[['product_score', 'ps1', 'ps2', 'ps3']]"
   ]
  },
  {
   "cell_type": "code",
   "execution_count": null,
   "metadata": {},
   "outputs": [],
   "source": [
    "fig, ax = plt.subplots( figsize=(6,3))\n",
    "sns.boxplot(data[['product_score','ps1', 'ps2', 'ps3']], width=0.7, orient='h')  \n",
    "ax.xaxis.grid(linestyle=':')\n",
    "\n",
    "ax.set_title(f'Fig.7 - Product score distribution vs competitors', y=-0.25, fontsize=13, loc='center')\n",
    " \n",
    "plt.tight_layout();\n",
    "\n",
    " "
   ]
  },
  {
   "cell_type": "code",
   "execution_count": null,
   "metadata": {},
   "outputs": [],
   "source": [
    "any(data.groupby(['product_id'])['ps1'].min() == data.groupby(['product_id'])['ps1'].max())"
   ]
  },
  {
   "cell_type": "code",
   "execution_count": null,
   "metadata": {},
   "outputs": [],
   "source": [
    "#data['product_score'] = data['product_score'].astype('category')\n",
    "for i in ['product_score', 'ps1', 'ps2', 'ps3']:\n",
    "    data[i] = data[i].astype('category')"
   ]
  },
  {
   "cell_type": "markdown",
   "metadata": {},
   "source": [
    "### S"
   ]
  },
  {
   "cell_type": "code",
   "execution_count": null,
   "metadata": {},
   "outputs": [],
   "source": [
    "data['s']"
   ]
  },
  {
   "cell_type": "code",
   "execution_count": null,
   "metadata": {},
   "outputs": [],
   "source": [
    "data.groupby(['product_id'])['s'].agg(['min', 'max', 'mean'])"
   ]
  },
  {
   "cell_type": "markdown",
   "metadata": {},
   "source": [
    "# Feature engineering"
   ]
  },
  {
   "cell_type": "markdown",
   "metadata": {},
   "source": [
    "## preparation"
   ]
  },
  {
   "cell_type": "code",
   "execution_count": null,
   "metadata": {},
   "outputs": [],
   "source": [
    "data_copy = data.copy()\n",
    "data_copy.drop(['product_id','month_year', 'year', 'qty', 'lag_price', 'unit_price','total_price', 'total_price_log', 'product_category_name', 'product_subcategory','product_description_lenght', 'product_weight_g'], axis=1, inplace=True) #  'month',"
   ]
  },
  {
   "cell_type": "code",
   "execution_count": null,
   "metadata": {},
   "outputs": [],
   "source": [
    "fig, ax = plt.subplots(figsize=(15, 10))\n",
    "\n",
    "matrix = np.triu(data_copy.corr())  \n",
    "fig = sns.heatmap(round(abs(data_copy.corr()),2), annot=True,  cmap= 'coolwarm', mask=matrix) #, vmin=-1, vmax=1, center= 0, fmt='.02g',\n",
    "ax.set_title('Fig. 8 - Features correlation heatmap', y=-0.15, fontsize=12);"
   ]
  },
  {
   "cell_type": "code",
   "execution_count": null,
   "metadata": {},
   "outputs": [],
   "source": [
    "data_copy.columns"
   ]
  },
  {
   "cell_type": "markdown",
   "metadata": {},
   "source": [
    "### Missing values"
   ]
  },
  {
   "cell_type": "code",
   "execution_count": null,
   "metadata": {},
   "outputs": [],
   "source": [
    "data_copy.isna().sum().value_counts(ascending=False)"
   ]
  },
  {
   "cell_type": "markdown",
   "metadata": {},
   "source": [
    "### Encoding"
   ]
  },
  {
   "cell_type": "code",
   "execution_count": null,
   "metadata": {},
   "outputs": [],
   "source": [
    "# X,y =  data.drop(['unit_price'], axis=1), data['unit_price']\n",
    "X,y =  data_copy.drop(['unit_price_log'], axis=1), data_copy['unit_price_log']\n",
    "\n",
    "numerics = ['int16', 'int32', 'int64', 'float16', 'float32', 'float64']\n",
    "\n",
    "num_features = [s for s in X.columns if X[s].dtypes in numerics]\n",
    "cat_features = [s for s in X.columns if X[s].dtypes == 'object' or X[s].dtypes == 'category']\n",
    "\n",
    "print(num_features)"
   ]
  },
  {
   "cell_type": "code",
   "execution_count": null,
   "metadata": {},
   "outputs": [],
   "source": [
    "transformer = make_column_transformer(\n",
    "    (StandardScaler(), num_features),\n",
    "    (OrdinalEncoder(), cat_features),\n",
    "    #(OneHotEncoder(sparse=False, drop='if_binary'), cat_features), remainder = 'passthrough'\n",
    ")\n",
    "\n",
    "transformer = transformer.fit(X)\n",
    "results = transformer.transform(X)\n",
    "\n",
    "results = pd.DataFrame(results, columns=\\\n",
    "    transformer.transformers_[0][1].get_feature_names_out().tolist() \\\n",
    "    + transformer.transformers_[1][1].get_feature_names_out().tolist() \\\n",
    "    #+ transformer.transformers_[2][1].get_feature_names_out().tolist()\n",
    "    )\n",
    "\n",
    "results.shape"
   ]
  },
  {
   "cell_type": "code",
   "execution_count": null,
   "metadata": {},
   "outputs": [],
   "source": [
    "# Split data by 3 samples: train, test and valid\n",
    "X_train, X_valid, y_train, y_valid = train_test_split(results, y, test_size=0.2,  random_state=random_seed)\n",
    "X_test, X_valid, y_test, y_valid  = train_test_split(X_valid, y_valid, test_size=0.5, random_state=random_seed)\n",
    "\n",
    "# Check samples shapes\n",
    "print('Train shape: {}'.format(X_train.shape))\n",
    "print('Test shape:  {}'.format(X_test.shape))\n",
    "print('Valid shape: {}'.format(X_valid.shape))\n"
   ]
  },
  {
   "cell_type": "code",
   "execution_count": null,
   "metadata": {},
   "outputs": [],
   "source": [
    "X_train"
   ]
  },
  {
   "cell_type": "markdown",
   "metadata": {},
   "source": [
    "# 2. Modelling"
   ]
  },
  {
   "cell_type": "markdown",
   "metadata": {},
   "source": [
    "### Regularization"
   ]
  },
  {
   "cell_type": "code",
   "execution_count": null,
   "metadata": {},
   "outputs": [],
   "source": [
    "# Creation an instance\n",
    "lasso = linear_model.Lasso(alpha=0.002, random_state=random_seed)\n",
    "\n",
    "# Train the Model\n",
    "lasso.fit(X_train, y_train)\n",
    "\n",
    "# Predict target values\n",
    "y_pred_test = lasso.predict(X_test)\n",
    "\n",
    "y_pred_test =  np.exp(y_pred_test)\n",
    "\n",
    "print(f'MSE: {round(mean_squared_error(np.exp(y_test), y_pred_test),2)}')\n",
    "print(f'MAPE: {round(mean_absolute_percentage_error(np.exp(y_test), y_pred_test)*100,2)} %')"
   ]
  },
  {
   "cell_type": "code",
   "execution_count": null,
   "metadata": {},
   "outputs": [],
   "source": [
    "scores = list()\n",
    "for i in np.linspace(0.001, 0.01, 25):\n",
    "    # Creation an instance\n",
    "    lasso = linear_model.Lasso(alpha=i, random_state=random_seed)\n",
    "\n",
    "    # Train the Model\n",
    "    lasso.fit(X_train, y_train)\n",
    "\n",
    "    # Predict target values\n",
    "    y_pred_test = lasso.predict(X_test)\n",
    "    \n",
    "    y_pred_test = np.exp(y_pred_test)\n",
    "    \n",
    "    scores.append(np.round(mean_squared_error(np.exp(y_test), y_pred_test),2))\n",
    "\n",
    "best_alpha = np.round(np.linspace(0.001, 0.01, 25)[np.argmin(scores)],4)\n",
    "\n",
    "# Creation an instance\n",
    "lasso = linear_model.Lasso(alpha=best_alpha, random_state=random_seed)\n",
    "\n",
    "# Train the Model\n",
    "lasso.fit(X_train, y_train)\n",
    "\n",
    "# Predict target values\n",
    "y_pred_test = lasso.predict(X_test)\n",
    "\n",
    "y_pred_test = np.exp(y_pred_test)\n",
    "\n",
    "print(f'MSE: {round(mean_squared_error(np.exp(y_test), y_pred_test),2)}')\n",
    "print(f'MAPE: {round(mean_absolute_percentage_error(np.exp(y_test), y_pred_test)*100,2)} %')"
   ]
  },
  {
   "cell_type": "code",
   "execution_count": null,
   "metadata": {},
   "outputs": [],
   "source": [
    "fig, ax = plt.subplots(ncols=2, figsize=(8, 4))\n",
    "PredictionErrorDisplay.from_predictions(\n",
    "    np.exp(y_test),\n",
    "    y_pred=y_pred_test,\n",
    "    kind=\"actual_vs_predicted\",\n",
    "    subsample=100,\n",
    "    ax=ax[0],\n",
    "    random_state=0,\n",
    ")\n",
    "ax[0].set_title(\"Actual vs. Predicted values\")\n",
    "\n",
    "PredictionErrorDisplay.from_predictions(\n",
    "    np.exp(y_test),\n",
    "    y_pred=y_pred_test,\n",
    "    kind=\"residual_vs_predicted\",\n",
    "    subsample=100,\n",
    "    ax=ax[1],\n",
    "    random_state=0,\n",
    ")\n",
    "ax[1].set_title(\"Residuals vs. Predicted Values\")\n",
    "fig.suptitle(\"Fig.9 - Plotting cross-validated predictions \\nfor the lasso model\", y=-0.05)\n",
    "plt.tight_layout()\n",
    "\n",
    "#plt.savefig('../figures/fig_9.png');"
   ]
  },
  {
   "cell_type": "code",
   "execution_count": null,
   "metadata": {},
   "outputs": [],
   "source": [
    "# Features and coefficients\n",
    "coef_df = pd.DataFrame({'Coefficients': lasso.coef_}, index=lasso.feature_names_in_)\n",
    "coef_df\n",
    "# add the intercept coefficient\n",
    "coef_df.loc['INTERCEPT'] = lasso.intercept_\n",
    "display(coef_df.sort_values('Coefficients',ascending=False))"
   ]
  },
  {
   "cell_type": "code",
   "execution_count": null,
   "metadata": {},
   "outputs": [],
   "source": [
    "idx = coef_df.sort_values(['Coefficients'], key=abs,ascending=False).index\n",
    "temp= coef_df.reindex(idx).iloc[1:12]\n",
    "\n",
    "fig, ax = plt.subplots(figsize=(6,4))\n",
    "sns.barplot(x=temp.values.flatten(), y=temp.index)\n",
    "\n",
    "ax.set_title(f'Fig.10 - Feature significance', y=-0.25, fontsize=13, loc='center')\n",
    "ax.xaxis.grid(linestyle=':')\n",
    "plt.tight_layout()\n"
   ]
  }
 ],
 "metadata": {
  "kernelspec": {
   "display_name": "Python 3 (ipykernel)",
   "language": "python",
   "name": "python3"
  },
  "language_info": {
   "codemirror_mode": {
    "name": "ipython",
    "version": 3
   },
   "file_extension": ".py",
   "mimetype": "text/x-python",
   "name": "python",
   "nbconvert_exporter": "python",
   "pygments_lexer": "ipython3",
   "version": "3.11.4"
  }
 },
 "nbformat": 4,
 "nbformat_minor": 4
}
